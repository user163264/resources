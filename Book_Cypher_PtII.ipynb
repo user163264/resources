{
  "nbformat": 4,
  "nbformat_minor": 0,
  "metadata": {
    "colab": {
      "provenance": [],
      "authorship_tag": "ABX9TyMqvcyvBAKk4mUIk7+LZ6tx",
      "include_colab_link": true
    },
    "kernelspec": {
      "name": "python3",
      "display_name": "Python 3"
    },
    "language_info": {
      "name": "python"
    }
  },
  "cells": [
    {
      "cell_type": "markdown",
      "metadata": {
        "id": "view-in-github",
        "colab_type": "text"
      },
      "source": [
        "<a href=\"https://colab.research.google.com/github/user163264/resources/blob/main/Book_Cypher_PtII.ipynb\" target=\"_parent\"><img src=\"https://colab.research.google.com/assets/colab-badge.svg\" alt=\"Open In Colab\"/></a>"
      ]
    },
    {
      "cell_type": "code",
      "source": [
        "# Install necessary libraries (if needed)\n",
        "!pip install numpy\n",
        "\n",
        "# Load \"The Book\" as a list of words\n",
        "BOOK_TEXT = \"\"\"\n",
        "The quick brown fox, so light on its feet, Jumps over the lazy dog, swift yet discreet.\n",
        "A wizard packs jugs, a box full of gold, Five dozen bottles, the tale retold.\n",
        "Sphinx of black quartz, judging with might, Dizzy gophers dance in the pale moonlight.\n",
        "Zealous nymphs bake, their cakes stacked high, While Oxford’s wizards make toads fly.\n",
        "Numbers whisper, etched in stone, 0123456789 stand alone.\n",
        "Symbols scattered in cryptic delight, !@#$%^&*()_+-=[]{}|;:'\\\",.<>?/ shine bright.\n",
        "A vow is spoken, a puzzle is cast, Mixing the letters, ensuring they last.\n",
        "Jumping wizards, boxing in line, Their rhythms encode a hidden sign.\n",
        "The cipher hums where riddles hide, ABCDEFGHIJKLMNOPQRSTUVWXYZ abide.\n",
        "Lower echoes, their shadows play, abcdefghijklmnopqrstuvwxyz lead the way.\n",
        "The river of glyphs flows deep and wide, With symbols and numbers set to guide.\n",
        "A puzzle of ink, a dance of the mind, Each fragment a secret for those who find.\n",
        "Lurking in pages where silence sways, The whispers of code in delicate phrase.\n",
        "A bridge between letters, a structured art, A spell that ensures the puzzle will start.\n",
        "Between the lines, the echoes call, Figures and runes engraved on the wall.\n",
        "0123456789 return again, Bound in the whispers of ink and pen.\n",
        "A fox may leap, a dog may rest, But ciphers remain, a language possessed.\n",
        "An alphabet forged, both shadowed and bright, A tale untold, yet hidden in sight.\n",
        "Scribes and seekers, heed this verse, Unlock the book, for better or worse.\n",
        "Letters and numbers, woven so tight, Keep them close, and read them right.\n",
        "\"\"\".split(\"\\n\")  # Split into lines\n",
        "\n",
        "# Convert The Book into a structured data format\n",
        "BOOK_INDEX = []\n",
        "for line_num, line in enumerate(BOOK_TEXT, start=1):\n",
        "    words = line.split()\n",
        "    word_positions = []\n",
        "    for word_num, word in enumerate(words, start=1):\n",
        "        letters = list(word)\n",
        "        word_positions.append(letters)\n",
        "    BOOK_INDEX.append(word_positions)\n",
        "\n",
        "# Function to encode a message\n",
        "def encode_message():\n",
        "    message = input(\"Enter the message to encode: \")\n",
        "    encoded = []\n",
        "    for char in message:\n",
        "        found = False\n",
        "        for line_num, line in enumerate(BOOK_INDEX, start=1):\n",
        "            for word_num, word in enumerate(line, start=1):\n",
        "                for letter_num, letter in enumerate(word, start=1):\n",
        "                    if letter.lower() == char.lower():\n",
        "                        encoded.append(f\"{line_num},{word_num},{letter_num}\")\n",
        "                        found = True\n",
        "                        break\n",
        "                if found:\n",
        "                    break\n",
        "            if found:\n",
        "                break\n",
        "    encoded_text = \", \".join(encoded)\n",
        "    print(f\"\\nEncoded Message: {encoded_text}\\n\")\n",
        "    return encoded_text\n",
        "\n",
        "# Function to decode a cypher\n",
        "def decode_cypher():\n",
        "    cypher_text = input(\"Enter the cypher to decode: \")\n",
        "    decoded = []\n",
        "    positions = cypher_text.split(\", \")\n",
        "    for pos in positions:\n",
        "        try:\n",
        "            line, word, letter = map(int, pos.split(','))\n",
        "            decoded.append(BOOK_INDEX[line-1][word-1][letter-1])\n",
        "        except:\n",
        "            decoded.append('?')  # Handle errors gracefully\n",
        "    decoded_text = \"\".join(decoded)\n",
        "    print(f\"\\nDecoded Message: {decoded_text}\\n\")\n",
        "    return decoded_text\n",
        "\n",
        "# User-friendly menu for encoding and decoding\n",
        "def main():\n",
        "    while True:\n",
        "        print(\"\\n===== Book Cipher Tool =====\")\n",
        "        print(\"1. Encode a message\")\n",
        "        print(\"2. Decode a cypher\")\n",
        "        print(\"3. Exit\")\n",
        "        choice = input(\"Select an option (1-3): \")\n",
        "\n",
        "        if choice == '1':\n",
        "            encode_message()\n",
        "        elif choice == '2':\n",
        "            decode_cypher()\n",
        "        elif choice == '3':\n",
        "            print(\"Exiting... Goodbye!\")\n",
        "            break\n",
        "        else:\n",
        "            print(\"Invalid option. Please try again.\")\n",
        "\n",
        "# Run the main function\n",
        "if __name__ == \"__main__\":\n",
        "    main()\n"
      ],
      "metadata": {
        "colab": {
          "base_uri": "https://localhost:8080/",
          "height": 436
        },
        "id": "kb0XpErj6v8N",
        "outputId": "f5426c4a-b42e-4f41-f4cd-7464220ae7b4"
      },
      "execution_count": null,
      "outputs": [
        {
          "output_type": "stream",
          "name": "stdout",
          "text": [
            "Requirement already satisfied: numpy in /usr/local/lib/python3.11/dist-packages (1.26.4)\n",
            "\n",
            "===== Book Cipher Tool =====\n",
            "1. Encode a message\n",
            "2. Decode a cypher\n",
            "3. Exit\n"
          ]
        },
        {
          "output_type": "error",
          "ename": "KeyboardInterrupt",
          "evalue": "Interrupted by user",
          "traceback": [
            "\u001b[0;31m---------------------------------------------------------------------------\u001b[0m",
            "\u001b[0;31mKeyboardInterrupt\u001b[0m                         Traceback (most recent call last)",
            "\u001b[0;32m<ipython-input-1-a2517a29ea14>\u001b[0m in \u001b[0;36m<cell line: 0>\u001b[0;34m()\u001b[0m\n\u001b[1;32m     93\u001b[0m \u001b[0;31m# Run the main function\u001b[0m\u001b[0;34m\u001b[0m\u001b[0;34m\u001b[0m\u001b[0m\n\u001b[1;32m     94\u001b[0m \u001b[0;32mif\u001b[0m \u001b[0m__name__\u001b[0m \u001b[0;34m==\u001b[0m \u001b[0;34m\"__main__\"\u001b[0m\u001b[0;34m:\u001b[0m\u001b[0;34m\u001b[0m\u001b[0;34m\u001b[0m\u001b[0m\n\u001b[0;32m---> 95\u001b[0;31m     \u001b[0mmain\u001b[0m\u001b[0;34m(\u001b[0m\u001b[0;34m)\u001b[0m\u001b[0;34m\u001b[0m\u001b[0;34m\u001b[0m\u001b[0m\n\u001b[0m",
            "\u001b[0;32m<ipython-input-1-a2517a29ea14>\u001b[0m in \u001b[0;36mmain\u001b[0;34m()\u001b[0m\n\u001b[1;32m     79\u001b[0m         \u001b[0mprint\u001b[0m\u001b[0;34m(\u001b[0m\u001b[0;34m\"2. Decode a cypher\"\u001b[0m\u001b[0;34m)\u001b[0m\u001b[0;34m\u001b[0m\u001b[0;34m\u001b[0m\u001b[0m\n\u001b[1;32m     80\u001b[0m         \u001b[0mprint\u001b[0m\u001b[0;34m(\u001b[0m\u001b[0;34m\"3. Exit\"\u001b[0m\u001b[0;34m)\u001b[0m\u001b[0;34m\u001b[0m\u001b[0;34m\u001b[0m\u001b[0m\n\u001b[0;32m---> 81\u001b[0;31m         \u001b[0mchoice\u001b[0m \u001b[0;34m=\u001b[0m \u001b[0minput\u001b[0m\u001b[0;34m(\u001b[0m\u001b[0;34m\"Select an option (1-3): \"\u001b[0m\u001b[0;34m)\u001b[0m\u001b[0;34m\u001b[0m\u001b[0;34m\u001b[0m\u001b[0m\n\u001b[0m\u001b[1;32m     82\u001b[0m \u001b[0;34m\u001b[0m\u001b[0m\n\u001b[1;32m     83\u001b[0m         \u001b[0;32mif\u001b[0m \u001b[0mchoice\u001b[0m \u001b[0;34m==\u001b[0m \u001b[0;34m'1'\u001b[0m\u001b[0;34m:\u001b[0m\u001b[0;34m\u001b[0m\u001b[0;34m\u001b[0m\u001b[0m\n",
            "\u001b[0;32m/usr/local/lib/python3.11/dist-packages/ipykernel/kernelbase.py\u001b[0m in \u001b[0;36mraw_input\u001b[0;34m(self, prompt)\u001b[0m\n\u001b[1;32m   1175\u001b[0m                 \u001b[0;34m\"raw_input was called, but this frontend does not support input requests.\"\u001b[0m\u001b[0;34m\u001b[0m\u001b[0;34m\u001b[0m\u001b[0m\n\u001b[1;32m   1176\u001b[0m             )\n\u001b[0;32m-> 1177\u001b[0;31m         return self._input_request(\n\u001b[0m\u001b[1;32m   1178\u001b[0m             \u001b[0mstr\u001b[0m\u001b[0;34m(\u001b[0m\u001b[0mprompt\u001b[0m\u001b[0;34m)\u001b[0m\u001b[0;34m,\u001b[0m\u001b[0;34m\u001b[0m\u001b[0;34m\u001b[0m\u001b[0m\n\u001b[1;32m   1179\u001b[0m             \u001b[0mself\u001b[0m\u001b[0;34m.\u001b[0m\u001b[0m_parent_ident\u001b[0m\u001b[0;34m[\u001b[0m\u001b[0;34m\"shell\"\u001b[0m\u001b[0;34m]\u001b[0m\u001b[0;34m,\u001b[0m\u001b[0;34m\u001b[0m\u001b[0;34m\u001b[0m\u001b[0m\n",
            "\u001b[0;32m/usr/local/lib/python3.11/dist-packages/ipykernel/kernelbase.py\u001b[0m in \u001b[0;36m_input_request\u001b[0;34m(self, prompt, ident, parent, password)\u001b[0m\n\u001b[1;32m   1217\u001b[0m             \u001b[0;32mexcept\u001b[0m \u001b[0mKeyboardInterrupt\u001b[0m\u001b[0;34m:\u001b[0m\u001b[0;34m\u001b[0m\u001b[0;34m\u001b[0m\u001b[0m\n\u001b[1;32m   1218\u001b[0m                 \u001b[0;31m# re-raise KeyboardInterrupt, to truncate traceback\u001b[0m\u001b[0;34m\u001b[0m\u001b[0;34m\u001b[0m\u001b[0m\n\u001b[0;32m-> 1219\u001b[0;31m                 \u001b[0;32mraise\u001b[0m \u001b[0mKeyboardInterrupt\u001b[0m\u001b[0;34m(\u001b[0m\u001b[0;34m\"Interrupted by user\"\u001b[0m\u001b[0;34m)\u001b[0m \u001b[0;32mfrom\u001b[0m \u001b[0;32mNone\u001b[0m\u001b[0;34m\u001b[0m\u001b[0;34m\u001b[0m\u001b[0m\n\u001b[0m\u001b[1;32m   1220\u001b[0m             \u001b[0;32mexcept\u001b[0m \u001b[0mException\u001b[0m\u001b[0;34m:\u001b[0m\u001b[0;34m\u001b[0m\u001b[0;34m\u001b[0m\u001b[0m\n\u001b[1;32m   1221\u001b[0m                 \u001b[0mself\u001b[0m\u001b[0;34m.\u001b[0m\u001b[0mlog\u001b[0m\u001b[0;34m.\u001b[0m\u001b[0mwarning\u001b[0m\u001b[0;34m(\u001b[0m\u001b[0;34m\"Invalid Message:\"\u001b[0m\u001b[0;34m,\u001b[0m \u001b[0mexc_info\u001b[0m\u001b[0;34m=\u001b[0m\u001b[0;32mTrue\u001b[0m\u001b[0;34m)\u001b[0m\u001b[0;34m\u001b[0m\u001b[0;34m\u001b[0m\u001b[0m\n",
            "\u001b[0;31mKeyboardInterrupt\u001b[0m: Interrupted by user"
          ]
        }
      ]
    }
  ]
}